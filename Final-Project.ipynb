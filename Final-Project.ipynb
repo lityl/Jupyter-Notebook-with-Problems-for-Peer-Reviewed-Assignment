{
 "cells": [
  {
   "cell_type": "markdown",
   "metadata": {},
   "source": [
    "<center> \n",
    "     <img src=\"https://cf-courses-data.s3.us.cloud-object-storage.appdomain.cloud/assets/logos/SN_web_lightmode.png\" width=\"300\"> \n",
    "</center>\n",
    "\n",
    "# Assignment: Notebook for Peer Assignment\n",
    "Estimated time needed: 45 minutes\n"
   ]
  },
  {
   "cell_type": "markdown",
   "metadata": {},
   "source": [
    "# Assignment Scenario\n",
    "\n",
    "Congratulations! You have just been hired by a US Venture Capital firm as a data analyst.\n",
    "\n",
    "The company is considering foreign grain markets to help meet its supply chain requirements for its recent investments in the microbrewery and microdistillery industry, which is involved with the production and distribution of craft beers and spirits.\n",
    "\n",
    "Your first task is to provide a high level analysis of crop production in Canada. Your stakeholders want to understand the current and historical performance of certain crop types in terms of supply and price volatility. For now they are mainly interested in a macro-view of Canada's crop farming industry, and how it relates to the relative value of the Canadian and US dollars.\n"
   ]
  },
  {
   "cell_type": "markdown",
   "metadata": {},
   "source": [
    "# Introduction\n",
    "\n",
    "Using this R notebook you will:\n",
    "\n",
    "1.  Understand four datasets \n",
    "2.  Load the datasets into four separate tables in a Db2 database\n",
    "3.  Execute SQL queries unsing the RODBC R package to answer assignment questions \n",
    "\n",
    "You have already encountered two of these datasets in the previous practice lab. You will be able to reuse much of the work you did there to prepare your database tables for executing SQL queries.\n"
   ]
  },
  {
   "cell_type": "markdown",
   "metadata": {},
   "source": [
    "# Understand the datasets\n",
    "\n",
    "To complete the assignment problems in this notebook you will be using subsetted snapshots of two datasets from Statistics Canada, and one from the Bank of Canada. The links to the prepared datasets are provided in the next section; the interested student can explore the landing pages for the source datasets as follows:\n",
    "\n",
    "1.  <a href=\"https://www150.statcan.gc.ca/t1/tbl1/en/tv.action?utm_medium=Exinfluencer&utm_source=Exinfluencer&utm_content=000026UJ&utm_term=10006555&utm_id=NA-SkillsNetwork-Channel-SkillsNetworkCoursesIBMRP0203ENSkillsNetwork890-2022-01-01&pid=3210035901\">Canadian Principal Crops (Data & Metadata)</a>\n",
    "2.  <a href=\"https://www150.statcan.gc.ca/t1/tbl1/en/tv.action?utm_medium=Exinfluencer&utm_source=Exinfluencer&utm_content=000026UJ&utm_term=10006555&utm_id=NA-SkillsNetwork-Channel-SkillsNetworkCoursesIBMRP0203ENSkillsNetwork890-2022-01-01&pid=3210007701\">Farm product prices (Data & Metadata)</a>\n",
    "3.  <a href=\"https://www.bankofcanada.ca/rates/exchange/daily-exchange-rates?utm_medium=Exinfluencer&utm_source=Exinfluencer&utm_content=000026UJ&utm_term=10006555&utm_id=NA-SkillsNetwork-Channel-SkillsNetworkCoursesIBMRP0203ENSkillsNetwork890-2022-01-01\">Bank of Canada daily average exchange rates</a>\n",
    "\n",
    "\n",
    "### 1. Canadian Principal Crops Data *\n",
    "\n",
    "This dataset contains agricultural production measures for the principle crops grown in Canada, including a breakdown by province and teritory, for each year from 1908 to 2020.\n",
    "\n",
    "For this assignment you will use a preprocessed snapshot of this dataset (see below).\n",
    "\n",
    "A detailed description of this dataset can be obtained from the StatsCan Data Portal at:\n",
    "https://www150.statcan.gc.ca/t1/tbl1/en/tv.action?pid=3210035901  \n",
    "Detailed information is included in the metadata file and as header text in the data file, which can be downloaded - look for the 'download options' link.  \n",
    "\n",
    "### 2. Farm product prices\n",
    "\n",
    "This dataset contains monthly average farm product prices for Canadian crops and livestock by province and teritory, from 1980 to 2020 (or 'last year', whichever is greatest).\n",
    "\n",
    "For this assignment you will use a preprocessed snapshot of this dataset (see below).\n",
    "\n",
    "A description of this dataset can be obtained from the StatsCan Data Portal at:\n",
    "https://www150.statcan.gc.ca/t1/tbl1/en/tv.action?pid=3210007701 \n",
    "The information is included in the metadata file, which can be downloaded - look for the 'download options' link.  \n",
    "\n",
    "### 3. Bank of Canada daily average exchange rates *\n",
    "\n",
    "This dataset contains the daily average exchange rates for multiple foreign currencies. Exchange rates are expressed as 1 unit of the foreign currency converted into Canadian dollars. It includes only the latest four years of data, and the rates are published once each business day by 16:30 ET.\n",
    "\n",
    "For this assignment you will use a snapshot of this dataset with only the USD-CAD exchange rates included (see next section). We have also prepared a monthly averaged version which you will be using below.\n",
    "\n",
    "A brief description of this dataset and the original dataset can be obtained from the Bank of Canada Data Portal at:\n",
    "https://www.bankofcanada.ca/rates/exchange/daily-exchange-rates/\n",
    "\n",
    "( * these datasets are the same as the ones you used in the practice lab)\n"
   ]
  },
  {
   "cell_type": "markdown",
   "metadata": {},
   "source": [
    "### Dataset URLs\n",
    "\n",
    "  1.  Annual Crop Data: https://cf-courses-data.s3.us.cloud-object-storage.appdomain.cloud/IBM-RP0203EN-SkillsNetwork/labs/Final%20Project/Annual_Crop_Data.csv \n",
    "\n",
    "  2.  Farm product prices: https://cf-courses-data.s3.us.cloud-object-storage.appdomain.cloud/IBM-RP0203EN-SkillsNetwork/labs/Final%20Project/Monthly_Farm_Prices.csv\n",
    "  \n",
    "  3.  Daily FX Data: https://cf-courses-data.s3.us.cloud-object-storage.appdomain.cloud/IBM-RP0203EN-SkillsNetwork/labs/Final%20Project/Daily_FX.csv\n",
    "  \n",
    "  4.  Monthly FX Data: https://cf-courses-data.s3.us.cloud-object-storage.appdomain.cloud/IBM-RP0203EN-SkillsNetwork/labs/Final%20Project/Monthly_FX.csv\n",
    "  \n",
    "\n",
    "<span style=\"color:red\">**IMPORTANT:**</span> You will be loading these datasets directly into R data frames from these URLs instead of from the StatsCan and Bank of Canada portals. The versions provided at these URLs are simplified and subsetted versions of the original datasets.\n"
   ]
  },
  {
   "cell_type": "markdown",
   "metadata": {},
   "source": [
    "#### Now let's load these datasets into four separate Db2 tables.\n",
    "Let's first load the RODBC package:\n"
   ]
  },
  {
   "cell_type": "code",
   "execution_count": 1,
   "metadata": {
    "tags": []
   },
   "outputs": [],
   "source": [
    "library(RODBC);"
   ]
  },
  {
   "cell_type": "markdown",
   "metadata": {},
   "source": [
    "## Problem 1\n",
    "#### Create tables\n",
    "Establish a connection to the Db2 database, and create the following four tables using the RODBC package in R. \n",
    "Use the separate cells provided below to create each of your tables.\n",
    "\n",
    "1.  **CROP_DATA**\n",
    "2.  **FARM_PRICES**\n",
    "3.  **DAILY_FX**\n",
    "4.  **MONTHLY_FX**  \n",
    "\n",
    "The previous practice lab will help you accomplish this.\n"
   ]
  },
  {
   "cell_type": "markdown",
   "metadata": {},
   "source": [
    "### Solution 1\n"
   ]
  },
  {
   "cell_type": "code",
   "execution_count": 2,
   "metadata": {},
   "outputs": [],
   "source": [
    "# Establish database connection\n",
    "dsn_driver <- \"{IBM DB2 ODBC Driver}\"\n",
    "dsn_database <- \"bludb\"            # e.g. \"bludb\"\n",
    "dsn_hostname <- \"3883e7e4-18f5-4afe-be8c-fa31c41761d2.bs2io90l08kqb1od8lcg.databases.appdomain.cloud\" # e.g \"54a2f15b-5c0f-46df-8954-.databases.appdomain.cloud\"\n",
    "dsn_port <- \"31498\" # e.g. \"32733\" \n",
    "dsn_protocol <- \"TCPIP\"            # i.e. \"TCPIP\"\n",
    "dsn_uid <- \"nyx77062\"        # e.g. \"zjh17769\"\n",
    "dsn_pwd <- \"t0CnvOUqshCZrS1C\"      # e.g. \"zcwd4+8gbq9bm5k4\"  \n",
    "dsn_security <- \"ssl\""
   ]
  },
  {
   "cell_type": "code",
   "execution_count": 3,
   "metadata": {},
   "outputs": [
    {
     "data": {
      "text/plain": [
       "RODBC Connection 1\n",
       "Details:\n",
       "  case=nochange\n",
       "  DRIVER={IBM DB2 ODBC DRIVER}\n",
       "  UID=nyx77062\n",
       "  PWD=******\n",
       "  DATABASE=bludb\n",
       "  HOSTNAME=3883e7e4-18f5-4afe-be8c-fa31c41761d2.bs2io90l08kqb1od8lcg.databases.appdomain.cloud\n",
       "  PORT=31498\n",
       "  PROTOCOL=TCPIP\n",
       "  SECURITY=SSL"
      ]
     },
     "metadata": {},
     "output_type": "display_data"
    }
   ],
   "source": [
    "conn_path <- paste(\"DRIVER=\",dsn_driver,\n",
    "                  \";DATABASE=\",dsn_database,\n",
    "                  \";HOSTNAME=\",dsn_hostname,\n",
    "                  \";PORT=\",dsn_port,\n",
    "                  \";PROTOCOL=\",dsn_protocol,\n",
    "                  \";UID=\",dsn_uid,\n",
    "                  \";PWD=\",dsn_pwd,\n",
    "                  \";SECURITY=\",dsn_security,        \n",
    "                    sep=\"\")\n",
    "conn <- odbcDriverConnect(conn_path, believeNRows=FALSE)\n",
    "conn"
   ]
  },
  {
   "cell_type": "code",
   "execution_count": 4,
   "metadata": {},
   "outputs": [
    {
     "data": {
      "text/html": [
       "<table>\n",
       "<caption>A data.frame: 6 × 8</caption>\n",
       "<thead>\n",
       "\t<tr><th></th><th scope=col>CD_ID</th><th scope=col>YEAR</th><th scope=col>CROP_TYPE</th><th scope=col>GEO</th><th scope=col>SEEDED_AREA</th><th scope=col>HARVESTED_AREA</th><th scope=col>PRODUCTION</th><th scope=col>AVG_YIELD</th></tr>\n",
       "\t<tr><th></th><th scope=col>&lt;int&gt;</th><th scope=col>&lt;chr&gt;</th><th scope=col>&lt;fct&gt;</th><th scope=col>&lt;fct&gt;</th><th scope=col>&lt;int&gt;</th><th scope=col>&lt;int&gt;</th><th scope=col>&lt;int&gt;</th><th scope=col>&lt;int&gt;</th></tr>\n",
       "</thead>\n",
       "<tbody>\n",
       "\t<tr><th scope=row>1</th><td>0</td><td>1965-12-31</td><td>Barley</td><td>Alberta     </td><td>1372000</td><td>1372000</td><td>2504000</td><td>1825</td></tr>\n",
       "\t<tr><th scope=row>2</th><td>1</td><td>1965-12-31</td><td>Barley</td><td>Canada      </td><td>2476800</td><td>2476800</td><td>4752900</td><td>1920</td></tr>\n",
       "\t<tr><th scope=row>3</th><td>2</td><td>1965-12-31</td><td>Barley</td><td>Saskatchewan</td><td> 708000</td><td> 708000</td><td>1415000</td><td>2000</td></tr>\n",
       "\t<tr><th scope=row>4</th><td>3</td><td>1965-12-31</td><td>Canola</td><td>Alberta     </td><td> 297400</td><td> 297400</td><td> 215500</td><td> 725</td></tr>\n",
       "\t<tr><th scope=row>5</th><td>4</td><td>1965-12-31</td><td>Canola</td><td>Canada      </td><td> 580700</td><td> 580700</td><td> 512600</td><td> 885</td></tr>\n",
       "\t<tr><th scope=row>6</th><td>5</td><td>1965-12-31</td><td>Canola</td><td>Saskatchewan</td><td> 224600</td><td> 224600</td><td> 242700</td><td>1080</td></tr>\n",
       "</tbody>\n",
       "</table>\n"
      ],
      "text/latex": [
       "A data.frame: 6 × 8\n",
       "\\begin{tabular}{r|llllllll}\n",
       "  & CD\\_ID & YEAR & CROP\\_TYPE & GEO & SEEDED\\_AREA & HARVESTED\\_AREA & PRODUCTION & AVG\\_YIELD\\\\\n",
       "  & <int> & <chr> & <fct> & <fct> & <int> & <int> & <int> & <int>\\\\\n",
       "\\hline\n",
       "\t1 & 0 & 1965-12-31 & Barley & Alberta      & 1372000 & 1372000 & 2504000 & 1825\\\\\n",
       "\t2 & 1 & 1965-12-31 & Barley & Canada       & 2476800 & 2476800 & 4752900 & 1920\\\\\n",
       "\t3 & 2 & 1965-12-31 & Barley & Saskatchewan &  708000 &  708000 & 1415000 & 2000\\\\\n",
       "\t4 & 3 & 1965-12-31 & Canola & Alberta      &  297400 &  297400 &  215500 &  725\\\\\n",
       "\t5 & 4 & 1965-12-31 & Canola & Canada       &  580700 &  580700 &  512600 &  885\\\\\n",
       "\t6 & 5 & 1965-12-31 & Canola & Saskatchewan &  224600 &  224600 &  242700 & 1080\\\\\n",
       "\\end{tabular}\n"
      ],
      "text/markdown": [
       "\n",
       "A data.frame: 6 × 8\n",
       "\n",
       "| <!--/--> | CD_ID &lt;int&gt; | YEAR &lt;chr&gt; | CROP_TYPE &lt;fct&gt; | GEO &lt;fct&gt; | SEEDED_AREA &lt;int&gt; | HARVESTED_AREA &lt;int&gt; | PRODUCTION &lt;int&gt; | AVG_YIELD &lt;int&gt; |\n",
       "|---|---|---|---|---|---|---|---|---|\n",
       "| 1 | 0 | 1965-12-31 | Barley | Alberta      | 1372000 | 1372000 | 2504000 | 1825 |\n",
       "| 2 | 1 | 1965-12-31 | Barley | Canada       | 2476800 | 2476800 | 4752900 | 1920 |\n",
       "| 3 | 2 | 1965-12-31 | Barley | Saskatchewan |  708000 |  708000 | 1415000 | 2000 |\n",
       "| 4 | 3 | 1965-12-31 | Canola | Alberta      |  297400 |  297400 |  215500 |  725 |\n",
       "| 5 | 4 | 1965-12-31 | Canola | Canada       |  580700 |  580700 |  512600 |  885 |\n",
       "| 6 | 5 | 1965-12-31 | Canola | Saskatchewan |  224600 |  224600 |  242700 | 1080 |\n",
       "\n"
      ],
      "text/plain": [
       "  CD_ID YEAR       CROP_TYPE GEO          SEEDED_AREA HARVESTED_AREA PRODUCTION\n",
       "1 0     1965-12-31 Barley    Alberta      1372000     1372000        2504000   \n",
       "2 1     1965-12-31 Barley    Canada       2476800     2476800        4752900   \n",
       "3 2     1965-12-31 Barley    Saskatchewan  708000      708000        1415000   \n",
       "4 3     1965-12-31 Canola    Alberta       297400      297400         215500   \n",
       "5 4     1965-12-31 Canola    Canada        580700      580700         512600   \n",
       "6 5     1965-12-31 Canola    Saskatchewan  224600      224600         242700   \n",
       "  AVG_YIELD\n",
       "1 1825     \n",
       "2 1920     \n",
       "3 2000     \n",
       "4  725     \n",
       "5  885     \n",
       "6 1080     "
      ]
     },
     "metadata": {},
     "output_type": "display_data"
    }
   ],
   "source": [
    "# CROP_DATA:\n",
    " crop_df <- read.csv('https://cf-courses-data.s3.us.cloud-object-storage.appdomain.cloud/IBM-RP0203EN-SkillsNetwork/labs/Final%20Project/Annual_Crop_Data.csv', colClasses=c(YEAR=\"character\"))  \n",
    "    head(crop_df)"
   ]
  },
  {
   "cell_type": "code",
   "execution_count": 12,
   "metadata": {},
   "outputs": [
    {
     "name": "stderr",
     "output_type": "stream",
     "text": [
      "Warning message in read.table(file = file, header = header, sep = sep, quote = quote, :\n",
      "“not all columns named in 'colClasses' exist”"
     ]
    },
    {
     "data": {
      "text/html": [
       "<table>\n",
       "<caption>A data.frame: 6 × 5</caption>\n",
       "<thead>\n",
       "\t<tr><th></th><th scope=col>CD_ID</th><th scope=col>DATE</th><th scope=col>CROP_TYPE</th><th scope=col>GEO</th><th scope=col>PRICE_PRERMT</th></tr>\n",
       "\t<tr><th></th><th scope=col>&lt;int&gt;</th><th scope=col>&lt;fct&gt;</th><th scope=col>&lt;fct&gt;</th><th scope=col>&lt;fct&gt;</th><th scope=col>&lt;dbl&gt;</th></tr>\n",
       "</thead>\n",
       "<tbody>\n",
       "\t<tr><th scope=row>1</th><td>0</td><td>1985-01-01</td><td>Barley</td><td>Alberta     </td><td>127.39</td></tr>\n",
       "\t<tr><th scope=row>2</th><td>1</td><td>1985-01-01</td><td>Barley</td><td>Saskatchewan</td><td>121.38</td></tr>\n",
       "\t<tr><th scope=row>3</th><td>2</td><td>1985-01-01</td><td>Canola</td><td>Alberta     </td><td>342.00</td></tr>\n",
       "\t<tr><th scope=row>4</th><td>3</td><td>1985-01-01</td><td>Canola</td><td>Saskatchewan</td><td>339.82</td></tr>\n",
       "\t<tr><th scope=row>5</th><td>4</td><td>1985-01-01</td><td>Rye   </td><td>Alberta     </td><td>100.77</td></tr>\n",
       "\t<tr><th scope=row>6</th><td>5</td><td>1985-01-01</td><td>Rye   </td><td>Saskatchewan</td><td>109.75</td></tr>\n",
       "</tbody>\n",
       "</table>\n"
      ],
      "text/latex": [
       "A data.frame: 6 × 5\n",
       "\\begin{tabular}{r|lllll}\n",
       "  & CD\\_ID & DATE & CROP\\_TYPE & GEO & PRICE\\_PRERMT\\\\\n",
       "  & <int> & <fct> & <fct> & <fct> & <dbl>\\\\\n",
       "\\hline\n",
       "\t1 & 0 & 1985-01-01 & Barley & Alberta      & 127.39\\\\\n",
       "\t2 & 1 & 1985-01-01 & Barley & Saskatchewan & 121.38\\\\\n",
       "\t3 & 2 & 1985-01-01 & Canola & Alberta      & 342.00\\\\\n",
       "\t4 & 3 & 1985-01-01 & Canola & Saskatchewan & 339.82\\\\\n",
       "\t5 & 4 & 1985-01-01 & Rye    & Alberta      & 100.77\\\\\n",
       "\t6 & 5 & 1985-01-01 & Rye    & Saskatchewan & 109.75\\\\\n",
       "\\end{tabular}\n"
      ],
      "text/markdown": [
       "\n",
       "A data.frame: 6 × 5\n",
       "\n",
       "| <!--/--> | CD_ID &lt;int&gt; | DATE &lt;fct&gt; | CROP_TYPE &lt;fct&gt; | GEO &lt;fct&gt; | PRICE_PRERMT &lt;dbl&gt; |\n",
       "|---|---|---|---|---|---|\n",
       "| 1 | 0 | 1985-01-01 | Barley | Alberta      | 127.39 |\n",
       "| 2 | 1 | 1985-01-01 | Barley | Saskatchewan | 121.38 |\n",
       "| 3 | 2 | 1985-01-01 | Canola | Alberta      | 342.00 |\n",
       "| 4 | 3 | 1985-01-01 | Canola | Saskatchewan | 339.82 |\n",
       "| 5 | 4 | 1985-01-01 | Rye    | Alberta      | 100.77 |\n",
       "| 6 | 5 | 1985-01-01 | Rye    | Saskatchewan | 109.75 |\n",
       "\n"
      ],
      "text/plain": [
       "  CD_ID DATE       CROP_TYPE GEO          PRICE_PRERMT\n",
       "1 0     1985-01-01 Barley    Alberta      127.39      \n",
       "2 1     1985-01-01 Barley    Saskatchewan 121.38      \n",
       "3 2     1985-01-01 Canola    Alberta      342.00      \n",
       "4 3     1985-01-01 Canola    Saskatchewan 339.82      \n",
       "5 4     1985-01-01 Rye       Alberta      100.77      \n",
       "6 5     1985-01-01 Rye       Saskatchewan 109.75      "
      ]
     },
     "metadata": {},
     "output_type": "display_data"
    }
   ],
   "source": [
    "# FARM_PRICES:\n",
    "farm_df <- read.csv('https://cf-courses-data.s3.us.cloud-object-storage.appdomain.cloud/IBM-RP0203EN-SkillsNetwork/labs/Final%20Project/Monthly_Farm_Prices.csv', colClasses=c(date=\"character\"))\n",
    " head(farm_df)"
   ]
  },
  {
   "cell_type": "code",
   "execution_count": 7,
   "metadata": {},
   "outputs": [
    {
     "data": {
      "text/html": [
       "<table>\n",
       "<caption>A data.frame: 6 × 3</caption>\n",
       "<thead>\n",
       "\t<tr><th></th><th scope=col>DFX_ID</th><th scope=col>DATE</th><th scope=col>FXUSDCAD</th></tr>\n",
       "\t<tr><th></th><th scope=col>&lt;int&gt;</th><th scope=col>&lt;chr&gt;</th><th scope=col>&lt;dbl&gt;</th></tr>\n",
       "</thead>\n",
       "<tbody>\n",
       "\t<tr><th scope=row>1</th><td>0</td><td>2017-01-03</td><td>1.3435</td></tr>\n",
       "\t<tr><th scope=row>2</th><td>1</td><td>2017-01-04</td><td>1.3315</td></tr>\n",
       "\t<tr><th scope=row>3</th><td>2</td><td>2017-01-05</td><td>1.3244</td></tr>\n",
       "\t<tr><th scope=row>4</th><td>3</td><td>2017-01-06</td><td>1.3214</td></tr>\n",
       "\t<tr><th scope=row>5</th><td>4</td><td>2017-01-09</td><td>1.3240</td></tr>\n",
       "\t<tr><th scope=row>6</th><td>5</td><td>2017-01-10</td><td>1.3213</td></tr>\n",
       "</tbody>\n",
       "</table>\n"
      ],
      "text/latex": [
       "A data.frame: 6 × 3\n",
       "\\begin{tabular}{r|lll}\n",
       "  & DFX\\_ID & DATE & FXUSDCAD\\\\\n",
       "  & <int> & <chr> & <dbl>\\\\\n",
       "\\hline\n",
       "\t1 & 0 & 2017-01-03 & 1.3435\\\\\n",
       "\t2 & 1 & 2017-01-04 & 1.3315\\\\\n",
       "\t3 & 2 & 2017-01-05 & 1.3244\\\\\n",
       "\t4 & 3 & 2017-01-06 & 1.3214\\\\\n",
       "\t5 & 4 & 2017-01-09 & 1.3240\\\\\n",
       "\t6 & 5 & 2017-01-10 & 1.3213\\\\\n",
       "\\end{tabular}\n"
      ],
      "text/markdown": [
       "\n",
       "A data.frame: 6 × 3\n",
       "\n",
       "| <!--/--> | DFX_ID &lt;int&gt; | DATE &lt;chr&gt; | FXUSDCAD &lt;dbl&gt; |\n",
       "|---|---|---|---|\n",
       "| 1 | 0 | 2017-01-03 | 1.3435 |\n",
       "| 2 | 1 | 2017-01-04 | 1.3315 |\n",
       "| 3 | 2 | 2017-01-05 | 1.3244 |\n",
       "| 4 | 3 | 2017-01-06 | 1.3214 |\n",
       "| 5 | 4 | 2017-01-09 | 1.3240 |\n",
       "| 6 | 5 | 2017-01-10 | 1.3213 |\n",
       "\n"
      ],
      "text/plain": [
       "  DFX_ID DATE       FXUSDCAD\n",
       "1 0      2017-01-03 1.3435  \n",
       "2 1      2017-01-04 1.3315  \n",
       "3 2      2017-01-05 1.3244  \n",
       "4 3      2017-01-06 1.3214  \n",
       "5 4      2017-01-09 1.3240  \n",
       "6 5      2017-01-10 1.3213  "
      ]
     },
     "metadata": {},
     "output_type": "display_data"
    }
   ],
   "source": [
    "# DAILY_FX:\n",
    "dfx_df <- read.csv('https://cf-courses-data.s3.us.cloud-object-storage.appdomain.cloud/IBM-RP0203EN-SkillsNetwork/labs/Final%20Project/Daily_FX.csv', colClasses=c(DATE=\"character\"))\n",
    " head(dfx_df)"
   ]
  },
  {
   "cell_type": "code",
   "execution_count": 10,
   "metadata": {},
   "outputs": [
    {
     "data": {
      "text/html": [
       "<table>\n",
       "<caption>A data.frame: 6 × 3</caption>\n",
       "<thead>\n",
       "\t<tr><th></th><th scope=col>DFX_ID</th><th scope=col>DATE</th><th scope=col>FXUSDCAD</th></tr>\n",
       "\t<tr><th></th><th scope=col>&lt;int&gt;</th><th scope=col>&lt;chr&gt;</th><th scope=col>&lt;dbl&gt;</th></tr>\n",
       "</thead>\n",
       "<tbody>\n",
       "\t<tr><th scope=row>1</th><td>0</td><td>2017-01-01</td><td>1.319276</td></tr>\n",
       "\t<tr><th scope=row>2</th><td>1</td><td>2017-02-01</td><td>1.310726</td></tr>\n",
       "\t<tr><th scope=row>3</th><td>2</td><td>2017-03-01</td><td>1.338643</td></tr>\n",
       "\t<tr><th scope=row>4</th><td>3</td><td>2017-04-01</td><td>1.344021</td></tr>\n",
       "\t<tr><th scope=row>5</th><td>4</td><td>2017-05-01</td><td>1.360705</td></tr>\n",
       "\t<tr><th scope=row>6</th><td>5</td><td>2017-06-01</td><td>1.329805</td></tr>\n",
       "</tbody>\n",
       "</table>\n"
      ],
      "text/latex": [
       "A data.frame: 6 × 3\n",
       "\\begin{tabular}{r|lll}\n",
       "  & DFX\\_ID & DATE & FXUSDCAD\\\\\n",
       "  & <int> & <chr> & <dbl>\\\\\n",
       "\\hline\n",
       "\t1 & 0 & 2017-01-01 & 1.319276\\\\\n",
       "\t2 & 1 & 2017-02-01 & 1.310726\\\\\n",
       "\t3 & 2 & 2017-03-01 & 1.338643\\\\\n",
       "\t4 & 3 & 2017-04-01 & 1.344021\\\\\n",
       "\t5 & 4 & 2017-05-01 & 1.360705\\\\\n",
       "\t6 & 5 & 2017-06-01 & 1.329805\\\\\n",
       "\\end{tabular}\n"
      ],
      "text/markdown": [
       "\n",
       "A data.frame: 6 × 3\n",
       "\n",
       "| <!--/--> | DFX_ID &lt;int&gt; | DATE &lt;chr&gt; | FXUSDCAD &lt;dbl&gt; |\n",
       "|---|---|---|---|\n",
       "| 1 | 0 | 2017-01-01 | 1.319276 |\n",
       "| 2 | 1 | 2017-02-01 | 1.310726 |\n",
       "| 3 | 2 | 2017-03-01 | 1.338643 |\n",
       "| 4 | 3 | 2017-04-01 | 1.344021 |\n",
       "| 5 | 4 | 2017-05-01 | 1.360705 |\n",
       "| 6 | 5 | 2017-06-01 | 1.329805 |\n",
       "\n"
      ],
      "text/plain": [
       "  DFX_ID DATE       FXUSDCAD\n",
       "1 0      2017-01-01 1.319276\n",
       "2 1      2017-02-01 1.310726\n",
       "3 2      2017-03-01 1.338643\n",
       "4 3      2017-04-01 1.344021\n",
       "5 4      2017-05-01 1.360705\n",
       "6 5      2017-06-01 1.329805"
      ]
     },
     "metadata": {},
     "output_type": "display_data"
    }
   ],
   "source": [
    "# MONTHLY_FX:\n",
    "mfx_df <- read.csv('https://cf-courses-data.s3.us.cloud-object-storage.appdomain.cloud/IBM-RP0203EN-SkillsNetwork/labs/Final%20Project/Monthly_FX.csv', colClasses=c(DATE=\"character\"))\n",
    " head(mfx_df)"
   ]
  },
  {
   "cell_type": "markdown",
   "metadata": {},
   "source": [
    "## Problem 2\n",
    "#### Read Datasets and Load Tables\n",
    "Read the datasets into R dataframes using the urls provided above. Then load your tables.\n"
   ]
  },
  {
   "cell_type": "markdown",
   "metadata": {},
   "source": [
    "###  Solution 2\n"
   ]
  },
  {
   "cell_type": "code",
   "execution_count": 15,
   "metadata": {},
   "outputs": [],
   "source": [
    "    sqlSave(conn, crop_df, \"CROP_DATA\", append=TRUE, fast=FALSE, rownames=FALSE, colnames=FALSE, verbose=FALSE)\n",
    "    sqlSave(conn, dfx_df, \"DAILY_FX\", append=TRUE, fast=FALSE, rownames=FALSE, colnames=FALSE, verbose=FALSE)\n",
    "    sqlSave(conn, farm_df, \"FARM_PRICES\", append=TRUE, fast=FALSE, rownames=FALSE, colnames=FALSE, verbose=FALSE)\n",
    "    sqlSave(conn, mfx_df, \"MONTHLY_FX\", append=TRUE, fast=FALSE, rownames=FALSE, colnames=FALSE, verbose=FALSE)"
   ]
  },
  {
   "cell_type": "markdown",
   "metadata": {},
   "source": [
    "## Now execute SQL queries using the RODBC R package to solve the assignment problems.\n",
    "\n",
    "## Problem 3\n",
    "#### How many records are in the farm prices dataset?\n"
   ]
  },
  {
   "cell_type": "markdown",
   "metadata": {},
   "source": [
    "### Solution 3\n"
   ]
  },
  {
   "cell_type": "code",
   "execution_count": 16,
   "metadata": {},
   "outputs": [
    {
     "data": {
      "text/html": [
       "<table>\n",
       "<caption>A data.frame: 1 × 1</caption>\n",
       "<thead>\n",
       "\t<tr><th></th><th scope=col>1</th></tr>\n",
       "\t<tr><th></th><th scope=col>&lt;int&gt;</th></tr>\n",
       "</thead>\n",
       "<tbody>\n",
       "\t<tr><th scope=row>1</th><td>5356</td></tr>\n",
       "</tbody>\n",
       "</table>\n"
      ],
      "text/latex": [
       "A data.frame: 1 × 1\n",
       "\\begin{tabular}{r|l}\n",
       "  & 1\\\\\n",
       "  & <int>\\\\\n",
       "\\hline\n",
       "\t1 & 5356\\\\\n",
       "\\end{tabular}\n"
      ],
      "text/markdown": [
       "\n",
       "A data.frame: 1 × 1\n",
       "\n",
       "| <!--/--> | 1 &lt;int&gt; |\n",
       "|---|---|\n",
       "| 1 | 5356 |\n",
       "\n"
      ],
      "text/plain": [
       "  1   \n",
       "1 5356"
      ]
     },
     "metadata": {},
     "output_type": "display_data"
    }
   ],
   "source": [
    "\n",
    "    query <- \"SELECT COUNT(*) FROM FARM_PRICES;\"\n",
    "    view <- sqlQuery(conn,query)\n",
    "    view\n"
   ]
  },
  {
   "cell_type": "markdown",
   "metadata": {},
   "source": [
    "## Problem 4\n",
    "#### Which geographies are included in the farm prices dataset?\n"
   ]
  },
  {
   "cell_type": "markdown",
   "metadata": {},
   "source": [
    "### Solution 4\n"
   ]
  },
  {
   "cell_type": "code",
   "execution_count": 17,
   "metadata": {},
   "outputs": [
    {
     "data": {
      "text/html": [
       "<table>\n",
       "<caption>A data.frame: 2 × 1</caption>\n",
       "<thead>\n",
       "\t<tr><th></th><th scope=col>GEO</th></tr>\n",
       "\t<tr><th></th><th scope=col>&lt;fct&gt;</th></tr>\n",
       "</thead>\n",
       "<tbody>\n",
       "\t<tr><th scope=row>1</th><td>Alberta     </td></tr>\n",
       "\t<tr><th scope=row>2</th><td>Saskatchewan</td></tr>\n",
       "</tbody>\n",
       "</table>\n"
      ],
      "text/latex": [
       "A data.frame: 2 × 1\n",
       "\\begin{tabular}{r|l}\n",
       "  & GEO\\\\\n",
       "  & <fct>\\\\\n",
       "\\hline\n",
       "\t1 & Alberta     \\\\\n",
       "\t2 & Saskatchewan\\\\\n",
       "\\end{tabular}\n"
      ],
      "text/markdown": [
       "\n",
       "A data.frame: 2 × 1\n",
       "\n",
       "| <!--/--> | GEO &lt;fct&gt; |\n",
       "|---|---|\n",
       "| 1 | Alberta      |\n",
       "| 2 | Saskatchewan |\n",
       "\n"
      ],
      "text/plain": [
       "  GEO         \n",
       "1 Alberta     \n",
       "2 Saskatchewan"
      ]
     },
     "metadata": {},
     "output_type": "display_data"
    }
   ],
   "source": [
    "query <- \"SELECT DISTINCT(GEO) FROM FARM_PRICES;\"\n",
    "    view <- sqlQuery(conn,query)\n",
    "    view"
   ]
  },
  {
   "cell_type": "markdown",
   "metadata": {},
   "source": [
    "## Problem 5\n",
    "#### How many hectares of Rye were harvested in Canada in 1968?\n"
   ]
  },
  {
   "cell_type": "markdown",
   "metadata": {},
   "source": [
    "### Solution 5\n"
   ]
  },
  {
   "cell_type": "code",
   "execution_count": 51,
   "metadata": {},
   "outputs": [
    {
     "data": {
      "text/html": [
       "<table>\n",
       "<caption>A data.frame: 1 × 1</caption>\n",
       "<thead>\n",
       "\t<tr><th></th><th scope=col>TOTAL_HARVESTED_AREA</th></tr>\n",
       "\t<tr><th></th><th scope=col>&lt;int&gt;</th></tr>\n",
       "</thead>\n",
       "<tbody>\n",
       "\t<tr><th scope=row>1</th><td>822300</td></tr>\n",
       "</tbody>\n",
       "</table>\n"
      ],
      "text/latex": [
       "A data.frame: 1 × 1\n",
       "\\begin{tabular}{r|l}\n",
       "  & TOTAL\\_HARVESTED\\_AREA\\\\\n",
       "  & <int>\\\\\n",
       "\\hline\n",
       "\t1 & 822300\\\\\n",
       "\\end{tabular}\n"
      ],
      "text/markdown": [
       "\n",
       "A data.frame: 1 × 1\n",
       "\n",
       "| <!--/--> | TOTAL_HARVESTED_AREA &lt;int&gt; |\n",
       "|---|---|\n",
       "| 1 | 822300 |\n",
       "\n"
      ],
      "text/plain": [
       "  TOTAL_HARVESTED_AREA\n",
       "1 822300              "
      ]
     },
     "metadata": {},
     "output_type": "display_data"
    }
   ],
   "source": [
    "query <- \n",
    "\"SELECT SUM(HARVESTED_AREA) AS total_harvested_area FROM CROP_DATA\n",
    "WHERE GEO = 'Canada' AND\n",
    "    CROP_TYPE = 'Rye' AND\n",
    "    YEAR(YEAR) = 1968;\"\n",
    "    view <- sqlQuery(conn,query)\n",
    "    view"
   ]
  },
  {
   "cell_type": "markdown",
   "metadata": {},
   "source": [
    "## Problem 6\n",
    "#### Query and display the first 6 rows of the farm prices table for Rye.\n"
   ]
  },
  {
   "cell_type": "markdown",
   "metadata": {},
   "source": [
    "### Solution 6\n"
   ]
  },
  {
   "cell_type": "code",
   "execution_count": 32,
   "metadata": {},
   "outputs": [
    {
     "data": {
      "text/html": [
       "<table>\n",
       "<caption>A data.frame: 6 × 2</caption>\n",
       "<thead>\n",
       "\t<tr><th></th><th scope=col>CROP_TYPE</th><th scope=col>PRICE_PRERMT</th></tr>\n",
       "\t<tr><th></th><th scope=col>&lt;fct&gt;</th><th scope=col>&lt;dbl&gt;</th></tr>\n",
       "</thead>\n",
       "<tbody>\n",
       "\t<tr><th scope=row>1</th><td>Rye</td><td>100.77</td></tr>\n",
       "\t<tr><th scope=row>2</th><td>Rye</td><td>109.75</td></tr>\n",
       "\t<tr><th scope=row>3</th><td>Rye</td><td> 95.05</td></tr>\n",
       "\t<tr><th scope=row>4</th><td>Rye</td><td>103.46</td></tr>\n",
       "\t<tr><th scope=row>5</th><td>Rye</td><td> 96.77</td></tr>\n",
       "\t<tr><th scope=row>6</th><td>Rye</td><td>106.38</td></tr>\n",
       "</tbody>\n",
       "</table>\n"
      ],
      "text/latex": [
       "A data.frame: 6 × 2\n",
       "\\begin{tabular}{r|ll}\n",
       "  & CROP\\_TYPE & PRICE\\_PRERMT\\\\\n",
       "  & <fct> & <dbl>\\\\\n",
       "\\hline\n",
       "\t1 & Rye & 100.77\\\\\n",
       "\t2 & Rye & 109.75\\\\\n",
       "\t3 & Rye &  95.05\\\\\n",
       "\t4 & Rye & 103.46\\\\\n",
       "\t5 & Rye &  96.77\\\\\n",
       "\t6 & Rye & 106.38\\\\\n",
       "\\end{tabular}\n"
      ],
      "text/markdown": [
       "\n",
       "A data.frame: 6 × 2\n",
       "\n",
       "| <!--/--> | CROP_TYPE &lt;fct&gt; | PRICE_PRERMT &lt;dbl&gt; |\n",
       "|---|---|---|\n",
       "| 1 | Rye | 100.77 |\n",
       "| 2 | Rye | 109.75 |\n",
       "| 3 | Rye |  95.05 |\n",
       "| 4 | Rye | 103.46 |\n",
       "| 5 | Rye |  96.77 |\n",
       "| 6 | Rye | 106.38 |\n",
       "\n"
      ],
      "text/plain": [
       "  CROP_TYPE PRICE_PRERMT\n",
       "1 Rye       100.77      \n",
       "2 Rye       109.75      \n",
       "3 Rye        95.05      \n",
       "4 Rye       103.46      \n",
       "5 Rye        96.77      \n",
       "6 Rye       106.38      "
      ]
     },
     "metadata": {},
     "output_type": "display_data"
    }
   ],
   "source": [
    "query <- \"SELECT CROP_TYPE, PRICE_PRERMT FROM FARM_PRICES\n",
    "WHERE CROP_TYPE = 'Rye'\n",
    "LIMIT 6;\"\n",
    "    view <- sqlQuery(conn,query)\n",
    "    view"
   ]
  },
  {
   "cell_type": "markdown",
   "metadata": {},
   "source": [
    "## Problem 7\n",
    "#### Which provinces grew Barley? \n"
   ]
  },
  {
   "cell_type": "markdown",
   "metadata": {},
   "source": [
    "### Solution 7\n"
   ]
  },
  {
   "cell_type": "code",
   "execution_count": 34,
   "metadata": {},
   "outputs": [
    {
     "data": {
      "text/html": [
       "<table>\n",
       "<caption>A data.frame: 3 × 2</caption>\n",
       "<thead>\n",
       "\t<tr><th></th><th scope=col>CROP_TYPE</th><th scope=col>GEO</th></tr>\n",
       "\t<tr><th></th><th scope=col>&lt;fct&gt;</th><th scope=col>&lt;fct&gt;</th></tr>\n",
       "</thead>\n",
       "<tbody>\n",
       "\t<tr><th scope=row>1</th><td>Barley</td><td>Alberta     </td></tr>\n",
       "\t<tr><th scope=row>2</th><td>Barley</td><td>Canada      </td></tr>\n",
       "\t<tr><th scope=row>3</th><td>Barley</td><td>Saskatchewan</td></tr>\n",
       "</tbody>\n",
       "</table>\n"
      ],
      "text/latex": [
       "A data.frame: 3 × 2\n",
       "\\begin{tabular}{r|ll}\n",
       "  & CROP\\_TYPE & GEO\\\\\n",
       "  & <fct> & <fct>\\\\\n",
       "\\hline\n",
       "\t1 & Barley & Alberta     \\\\\n",
       "\t2 & Barley & Canada      \\\\\n",
       "\t3 & Barley & Saskatchewan\\\\\n",
       "\\end{tabular}\n"
      ],
      "text/markdown": [
       "\n",
       "A data.frame: 3 × 2\n",
       "\n",
       "| <!--/--> | CROP_TYPE &lt;fct&gt; | GEO &lt;fct&gt; |\n",
       "|---|---|---|\n",
       "| 1 | Barley | Alberta      |\n",
       "| 2 | Barley | Canada       |\n",
       "| 3 | Barley | Saskatchewan |\n",
       "\n"
      ],
      "text/plain": [
       "  CROP_TYPE GEO         \n",
       "1 Barley    Alberta     \n",
       "2 Barley    Canada      \n",
       "3 Barley    Saskatchewan"
      ]
     },
     "metadata": {},
     "output_type": "display_data"
    }
   ],
   "source": [
    "query <- \"SELECT DISTINCT(CROP_TYPE), GEO FROM CROP_DATA\n",
    "WHERE CROP_TYPE = 'Barley';\"\n",
    "    view <- sqlQuery(conn,query)\n",
    "    view"
   ]
  },
  {
   "cell_type": "markdown",
   "metadata": {},
   "source": [
    "## Problem 8\n",
    "#### Find the first and last dates for the farm prices data.\n"
   ]
  },
  {
   "cell_type": "markdown",
   "metadata": {},
   "source": [
    "### Solution 8\n"
   ]
  },
  {
   "cell_type": "code",
   "execution_count": 37,
   "metadata": {},
   "outputs": [
    {
     "data": {
      "text/html": [
       "<table>\n",
       "<caption>A data.frame: 1 × 2</caption>\n",
       "<thead>\n",
       "\t<tr><th></th><th scope=col>1</th><th scope=col>2</th></tr>\n",
       "\t<tr><th></th><th scope=col>&lt;fct&gt;</th><th scope=col>&lt;fct&gt;</th></tr>\n",
       "</thead>\n",
       "<tbody>\n",
       "\t<tr><th scope=row>1</th><td>1985-01-01</td><td>2020-12-01</td></tr>\n",
       "</tbody>\n",
       "</table>\n"
      ],
      "text/latex": [
       "A data.frame: 1 × 2\n",
       "\\begin{tabular}{r|ll}\n",
       "  & 1 & 2\\\\\n",
       "  & <fct> & <fct>\\\\\n",
       "\\hline\n",
       "\t1 & 1985-01-01 & 2020-12-01\\\\\n",
       "\\end{tabular}\n"
      ],
      "text/markdown": [
       "\n",
       "A data.frame: 1 × 2\n",
       "\n",
       "| <!--/--> | 1 &lt;fct&gt; | 2 &lt;fct&gt; |\n",
       "|---|---|---|\n",
       "| 1 | 1985-01-01 | 2020-12-01 |\n",
       "\n"
      ],
      "text/plain": [
       "  1          2         \n",
       "1 1985-01-01 2020-12-01"
      ]
     },
     "metadata": {},
     "output_type": "display_data"
    }
   ],
   "source": [
    "query <- \"SELECT MIN(DATE), MAX(DATE) FROM FARM_PRICES;\"\n",
    " view <- sqlQuery(conn,query)\n",
    "    view"
   ]
  },
  {
   "cell_type": "markdown",
   "metadata": {},
   "source": [
    "## Problem 9\n",
    "#### Which crops have ever reached a farm price greater than or equal to &#0036;350 per metric tonne?\n"
   ]
  },
  {
   "cell_type": "markdown",
   "metadata": {},
   "source": [
    "### Solution 9\n"
   ]
  },
  {
   "cell_type": "code",
   "execution_count": 39,
   "metadata": {},
   "outputs": [
    {
     "data": {
      "text/html": [
       "<table>\n",
       "<caption>A data.frame: 938 × 2</caption>\n",
       "<thead>\n",
       "\t<tr><th></th><th scope=col>CROP_TYPE</th><th scope=col>PRICE_PRERMT</th></tr>\n",
       "\t<tr><th></th><th scope=col>&lt;fct&gt;</th><th scope=col>&lt;dbl&gt;</th></tr>\n",
       "</thead>\n",
       "<tbody>\n",
       "\t<tr><th scope=row>1</th><td>Canola</td><td>350.04</td></tr>\n",
       "\t<tr><th scope=row>2</th><td>Canola</td><td>363.84</td></tr>\n",
       "\t<tr><th scope=row>3</th><td>Canola</td><td>364.36</td></tr>\n",
       "\t<tr><th scope=row>4</th><td>Canola</td><td>354.58</td></tr>\n",
       "\t<tr><th scope=row>5</th><td>Canola</td><td>359.99</td></tr>\n",
       "\t<tr><th scope=row>6</th><td>Canola</td><td>350.47</td></tr>\n",
       "\t<tr><th scope=row>7</th><td>Canola</td><td>354.05</td></tr>\n",
       "\t<tr><th scope=row>8</th><td>Canola</td><td>354.82</td></tr>\n",
       "\t<tr><th scope=row>9</th><td>Canola</td><td>357.37</td></tr>\n",
       "\t<tr><th scope=row>10</th><td>Canola</td><td>368.18</td></tr>\n",
       "\t<tr><th scope=row>11</th><td>Canola</td><td>373.35</td></tr>\n",
       "\t<tr><th scope=row>12</th><td>Canola</td><td>381.30</td></tr>\n",
       "\t<tr><th scope=row>13</th><td>Canola</td><td>380.24</td></tr>\n",
       "\t<tr><th scope=row>14</th><td>Canola</td><td>384.32</td></tr>\n",
       "\t<tr><th scope=row>15</th><td>Canola</td><td>358.59</td></tr>\n",
       "\t<tr><th scope=row>16</th><td>Canola</td><td>357.67</td></tr>\n",
       "\t<tr><th scope=row>17</th><td>Canola</td><td>367.46</td></tr>\n",
       "\t<tr><th scope=row>18</th><td>Canola</td><td>367.09</td></tr>\n",
       "\t<tr><th scope=row>19</th><td>Canola</td><td>390.35</td></tr>\n",
       "\t<tr><th scope=row>20</th><td>Canola</td><td>390.01</td></tr>\n",
       "\t<tr><th scope=row>21</th><td>Canola</td><td>402.33</td></tr>\n",
       "\t<tr><th scope=row>22</th><td>Canola</td><td>402.15</td></tr>\n",
       "\t<tr><th scope=row>23</th><td>Canola</td><td>393.65</td></tr>\n",
       "\t<tr><th scope=row>24</th><td>Canola</td><td>385.99</td></tr>\n",
       "\t<tr><th scope=row>25</th><td>Canola</td><td>375.25</td></tr>\n",
       "\t<tr><th scope=row>26</th><td>Canola</td><td>364.83</td></tr>\n",
       "\t<tr><th scope=row>27</th><td>Canola</td><td>367.91</td></tr>\n",
       "\t<tr><th scope=row>28</th><td>Canola</td><td>362.61</td></tr>\n",
       "\t<tr><th scope=row>29</th><td>Canola</td><td>370.66</td></tr>\n",
       "\t<tr><th scope=row>30</th><td>Canola</td><td>366.89</td></tr>\n",
       "\t<tr><th scope=row>⋮</th><td>⋮</td><td>⋮</td></tr>\n",
       "\t<tr><th scope=row>909</th><td>Canola</td><td>433.48</td></tr>\n",
       "\t<tr><th scope=row>910</th><td>Canola</td><td>432.26</td></tr>\n",
       "\t<tr><th scope=row>911</th><td>Canola</td><td>434.03</td></tr>\n",
       "\t<tr><th scope=row>912</th><td>Canola</td><td>434.73</td></tr>\n",
       "\t<tr><th scope=row>913</th><td>Canola</td><td>435.17</td></tr>\n",
       "\t<tr><th scope=row>914</th><td>Canola</td><td>437.10</td></tr>\n",
       "\t<tr><th scope=row>915</th><td>Canola</td><td>442.73</td></tr>\n",
       "\t<tr><th scope=row>916</th><td>Canola</td><td>447.92</td></tr>\n",
       "\t<tr><th scope=row>917</th><td>Canola</td><td>447.35</td></tr>\n",
       "\t<tr><th scope=row>918</th><td>Canola</td><td>449.61</td></tr>\n",
       "\t<tr><th scope=row>919</th><td>Canola</td><td>442.80</td></tr>\n",
       "\t<tr><th scope=row>920</th><td>Canola</td><td>447.85</td></tr>\n",
       "\t<tr><th scope=row>921</th><td>Canola</td><td>443.58</td></tr>\n",
       "\t<tr><th scope=row>922</th><td>Canola</td><td>450.99</td></tr>\n",
       "\t<tr><th scope=row>923</th><td>Canola</td><td>448.74</td></tr>\n",
       "\t<tr><th scope=row>924</th><td>Canola</td><td>451.96</td></tr>\n",
       "\t<tr><th scope=row>925</th><td>Canola</td><td>446.16</td></tr>\n",
       "\t<tr><th scope=row>926</th><td>Canola</td><td>453.31</td></tr>\n",
       "\t<tr><th scope=row>927</th><td>Canola</td><td>459.16</td></tr>\n",
       "\t<tr><th scope=row>928</th><td>Canola</td><td>462.88</td></tr>\n",
       "\t<tr><th scope=row>929</th><td>Canola</td><td>461.50</td></tr>\n",
       "\t<tr><th scope=row>930</th><td>Canola</td><td>464.60</td></tr>\n",
       "\t<tr><th scope=row>931</th><td>Canola</td><td>468.28</td></tr>\n",
       "\t<tr><th scope=row>932</th><td>Canola</td><td>463.52</td></tr>\n",
       "\t<tr><th scope=row>933</th><td>Canola</td><td>472.93</td></tr>\n",
       "\t<tr><th scope=row>934</th><td>Canola</td><td>474.80</td></tr>\n",
       "\t<tr><th scope=row>935</th><td>Canola</td><td>490.48</td></tr>\n",
       "\t<tr><th scope=row>936</th><td>Canola</td><td>495.64</td></tr>\n",
       "\t<tr><th scope=row>937</th><td>Canola</td><td>509.04</td></tr>\n",
       "\t<tr><th scope=row>938</th><td>Canola</td><td>507.33</td></tr>\n",
       "</tbody>\n",
       "</table>\n"
      ],
      "text/latex": [
       "A data.frame: 938 × 2\n",
       "\\begin{tabular}{r|ll}\n",
       "  & CROP\\_TYPE & PRICE\\_PRERMT\\\\\n",
       "  & <fct> & <dbl>\\\\\n",
       "\\hline\n",
       "\t1 & Canola & 350.04\\\\\n",
       "\t2 & Canola & 363.84\\\\\n",
       "\t3 & Canola & 364.36\\\\\n",
       "\t4 & Canola & 354.58\\\\\n",
       "\t5 & Canola & 359.99\\\\\n",
       "\t6 & Canola & 350.47\\\\\n",
       "\t7 & Canola & 354.05\\\\\n",
       "\t8 & Canola & 354.82\\\\\n",
       "\t9 & Canola & 357.37\\\\\n",
       "\t10 & Canola & 368.18\\\\\n",
       "\t11 & Canola & 373.35\\\\\n",
       "\t12 & Canola & 381.30\\\\\n",
       "\t13 & Canola & 380.24\\\\\n",
       "\t14 & Canola & 384.32\\\\\n",
       "\t15 & Canola & 358.59\\\\\n",
       "\t16 & Canola & 357.67\\\\\n",
       "\t17 & Canola & 367.46\\\\\n",
       "\t18 & Canola & 367.09\\\\\n",
       "\t19 & Canola & 390.35\\\\\n",
       "\t20 & Canola & 390.01\\\\\n",
       "\t21 & Canola & 402.33\\\\\n",
       "\t22 & Canola & 402.15\\\\\n",
       "\t23 & Canola & 393.65\\\\\n",
       "\t24 & Canola & 385.99\\\\\n",
       "\t25 & Canola & 375.25\\\\\n",
       "\t26 & Canola & 364.83\\\\\n",
       "\t27 & Canola & 367.91\\\\\n",
       "\t28 & Canola & 362.61\\\\\n",
       "\t29 & Canola & 370.66\\\\\n",
       "\t30 & Canola & 366.89\\\\\n",
       "\t⋮ & ⋮ & ⋮\\\\\n",
       "\t909 & Canola & 433.48\\\\\n",
       "\t910 & Canola & 432.26\\\\\n",
       "\t911 & Canola & 434.03\\\\\n",
       "\t912 & Canola & 434.73\\\\\n",
       "\t913 & Canola & 435.17\\\\\n",
       "\t914 & Canola & 437.10\\\\\n",
       "\t915 & Canola & 442.73\\\\\n",
       "\t916 & Canola & 447.92\\\\\n",
       "\t917 & Canola & 447.35\\\\\n",
       "\t918 & Canola & 449.61\\\\\n",
       "\t919 & Canola & 442.80\\\\\n",
       "\t920 & Canola & 447.85\\\\\n",
       "\t921 & Canola & 443.58\\\\\n",
       "\t922 & Canola & 450.99\\\\\n",
       "\t923 & Canola & 448.74\\\\\n",
       "\t924 & Canola & 451.96\\\\\n",
       "\t925 & Canola & 446.16\\\\\n",
       "\t926 & Canola & 453.31\\\\\n",
       "\t927 & Canola & 459.16\\\\\n",
       "\t928 & Canola & 462.88\\\\\n",
       "\t929 & Canola & 461.50\\\\\n",
       "\t930 & Canola & 464.60\\\\\n",
       "\t931 & Canola & 468.28\\\\\n",
       "\t932 & Canola & 463.52\\\\\n",
       "\t933 & Canola & 472.93\\\\\n",
       "\t934 & Canola & 474.80\\\\\n",
       "\t935 & Canola & 490.48\\\\\n",
       "\t936 & Canola & 495.64\\\\\n",
       "\t937 & Canola & 509.04\\\\\n",
       "\t938 & Canola & 507.33\\\\\n",
       "\\end{tabular}\n"
      ],
      "text/markdown": [
       "\n",
       "A data.frame: 938 × 2\n",
       "\n",
       "| <!--/--> | CROP_TYPE &lt;fct&gt; | PRICE_PRERMT &lt;dbl&gt; |\n",
       "|---|---|---|\n",
       "| 1 | Canola | 350.04 |\n",
       "| 2 | Canola | 363.84 |\n",
       "| 3 | Canola | 364.36 |\n",
       "| 4 | Canola | 354.58 |\n",
       "| 5 | Canola | 359.99 |\n",
       "| 6 | Canola | 350.47 |\n",
       "| 7 | Canola | 354.05 |\n",
       "| 8 | Canola | 354.82 |\n",
       "| 9 | Canola | 357.37 |\n",
       "| 10 | Canola | 368.18 |\n",
       "| 11 | Canola | 373.35 |\n",
       "| 12 | Canola | 381.30 |\n",
       "| 13 | Canola | 380.24 |\n",
       "| 14 | Canola | 384.32 |\n",
       "| 15 | Canola | 358.59 |\n",
       "| 16 | Canola | 357.67 |\n",
       "| 17 | Canola | 367.46 |\n",
       "| 18 | Canola | 367.09 |\n",
       "| 19 | Canola | 390.35 |\n",
       "| 20 | Canola | 390.01 |\n",
       "| 21 | Canola | 402.33 |\n",
       "| 22 | Canola | 402.15 |\n",
       "| 23 | Canola | 393.65 |\n",
       "| 24 | Canola | 385.99 |\n",
       "| 25 | Canola | 375.25 |\n",
       "| 26 | Canola | 364.83 |\n",
       "| 27 | Canola | 367.91 |\n",
       "| 28 | Canola | 362.61 |\n",
       "| 29 | Canola | 370.66 |\n",
       "| 30 | Canola | 366.89 |\n",
       "| ⋮ | ⋮ | ⋮ |\n",
       "| 909 | Canola | 433.48 |\n",
       "| 910 | Canola | 432.26 |\n",
       "| 911 | Canola | 434.03 |\n",
       "| 912 | Canola | 434.73 |\n",
       "| 913 | Canola | 435.17 |\n",
       "| 914 | Canola | 437.10 |\n",
       "| 915 | Canola | 442.73 |\n",
       "| 916 | Canola | 447.92 |\n",
       "| 917 | Canola | 447.35 |\n",
       "| 918 | Canola | 449.61 |\n",
       "| 919 | Canola | 442.80 |\n",
       "| 920 | Canola | 447.85 |\n",
       "| 921 | Canola | 443.58 |\n",
       "| 922 | Canola | 450.99 |\n",
       "| 923 | Canola | 448.74 |\n",
       "| 924 | Canola | 451.96 |\n",
       "| 925 | Canola | 446.16 |\n",
       "| 926 | Canola | 453.31 |\n",
       "| 927 | Canola | 459.16 |\n",
       "| 928 | Canola | 462.88 |\n",
       "| 929 | Canola | 461.50 |\n",
       "| 930 | Canola | 464.60 |\n",
       "| 931 | Canola | 468.28 |\n",
       "| 932 | Canola | 463.52 |\n",
       "| 933 | Canola | 472.93 |\n",
       "| 934 | Canola | 474.80 |\n",
       "| 935 | Canola | 490.48 |\n",
       "| 936 | Canola | 495.64 |\n",
       "| 937 | Canola | 509.04 |\n",
       "| 938 | Canola | 507.33 |\n",
       "\n"
      ],
      "text/plain": [
       "    CROP_TYPE PRICE_PRERMT\n",
       "1   Canola    350.04      \n",
       "2   Canola    363.84      \n",
       "3   Canola    364.36      \n",
       "4   Canola    354.58      \n",
       "5   Canola    359.99      \n",
       "6   Canola    350.47      \n",
       "7   Canola    354.05      \n",
       "8   Canola    354.82      \n",
       "9   Canola    357.37      \n",
       "10  Canola    368.18      \n",
       "11  Canola    373.35      \n",
       "12  Canola    381.30      \n",
       "13  Canola    380.24      \n",
       "14  Canola    384.32      \n",
       "15  Canola    358.59      \n",
       "16  Canola    357.67      \n",
       "17  Canola    367.46      \n",
       "18  Canola    367.09      \n",
       "19  Canola    390.35      \n",
       "20  Canola    390.01      \n",
       "21  Canola    402.33      \n",
       "22  Canola    402.15      \n",
       "23  Canola    393.65      \n",
       "24  Canola    385.99      \n",
       "25  Canola    375.25      \n",
       "26  Canola    364.83      \n",
       "27  Canola    367.91      \n",
       "28  Canola    362.61      \n",
       "29  Canola    370.66      \n",
       "30  Canola    366.89      \n",
       "⋮   ⋮         ⋮           \n",
       "909 Canola    433.48      \n",
       "910 Canola    432.26      \n",
       "911 Canola    434.03      \n",
       "912 Canola    434.73      \n",
       "913 Canola    435.17      \n",
       "914 Canola    437.10      \n",
       "915 Canola    442.73      \n",
       "916 Canola    447.92      \n",
       "917 Canola    447.35      \n",
       "918 Canola    449.61      \n",
       "919 Canola    442.80      \n",
       "920 Canola    447.85      \n",
       "921 Canola    443.58      \n",
       "922 Canola    450.99      \n",
       "923 Canola    448.74      \n",
       "924 Canola    451.96      \n",
       "925 Canola    446.16      \n",
       "926 Canola    453.31      \n",
       "927 Canola    459.16      \n",
       "928 Canola    462.88      \n",
       "929 Canola    461.50      \n",
       "930 Canola    464.60      \n",
       "931 Canola    468.28      \n",
       "932 Canola    463.52      \n",
       "933 Canola    472.93      \n",
       "934 Canola    474.80      \n",
       "935 Canola    490.48      \n",
       "936 Canola    495.64      \n",
       "937 Canola    509.04      \n",
       "938 Canola    507.33      "
      ]
     },
     "metadata": {},
     "output_type": "display_data"
    }
   ],
   "source": [
    "query <- \"SELECT CROP_TYPE, PRICE_PRERMT FROM FARM_PRICES\n",
    "WHERE PRICE_PRERMT >=350.00;\"\n",
    " view <- sqlQuery(conn,query)\n",
    "    view"
   ]
  },
  {
   "cell_type": "markdown",
   "metadata": {},
   "source": [
    "## Problem 10\n",
    "#### Rank the crop types harvested in Saskatchewan in the year 2000 by their average yield. Which crop performed best? \n"
   ]
  },
  {
   "cell_type": "markdown",
   "metadata": {},
   "source": [
    "### Solution 10\n"
   ]
  },
  {
   "cell_type": "code",
   "execution_count": 49,
   "metadata": {},
   "outputs": [
    {
     "data": {
      "text/html": [
       "<table>\n",
       "<caption>A data.frame: 12 × 2</caption>\n",
       "<thead>\n",
       "\t<tr><th></th><th scope=col>CROP_TYPE</th><th scope=col>AVG_YIELD</th></tr>\n",
       "\t<tr><th></th><th scope=col>&lt;fct&gt;</th><th scope=col>&lt;int&gt;</th></tr>\n",
       "</thead>\n",
       "<tbody>\n",
       "\t<tr><th scope=row>1</th><td>Barley</td><td>2800</td></tr>\n",
       "\t<tr><th scope=row>2</th><td>Barley</td><td>2800</td></tr>\n",
       "\t<tr><th scope=row>3</th><td>Barley</td><td>2800</td></tr>\n",
       "\t<tr><th scope=row>4</th><td>Wheat </td><td>2200</td></tr>\n",
       "\t<tr><th scope=row>5</th><td>Wheat </td><td>2200</td></tr>\n",
       "\t<tr><th scope=row>6</th><td>Wheat </td><td>2200</td></tr>\n",
       "\t<tr><th scope=row>7</th><td>Rye   </td><td>2100</td></tr>\n",
       "\t<tr><th scope=row>8</th><td>Rye   </td><td>2100</td></tr>\n",
       "\t<tr><th scope=row>9</th><td>Rye   </td><td>2100</td></tr>\n",
       "\t<tr><th scope=row>10</th><td>Canola</td><td>1400</td></tr>\n",
       "\t<tr><th scope=row>11</th><td>Canola</td><td>1400</td></tr>\n",
       "\t<tr><th scope=row>12</th><td>Canola</td><td>1400</td></tr>\n",
       "</tbody>\n",
       "</table>\n"
      ],
      "text/latex": [
       "A data.frame: 12 × 2\n",
       "\\begin{tabular}{r|ll}\n",
       "  & CROP\\_TYPE & AVG\\_YIELD\\\\\n",
       "  & <fct> & <int>\\\\\n",
       "\\hline\n",
       "\t1 & Barley & 2800\\\\\n",
       "\t2 & Barley & 2800\\\\\n",
       "\t3 & Barley & 2800\\\\\n",
       "\t4 & Wheat  & 2200\\\\\n",
       "\t5 & Wheat  & 2200\\\\\n",
       "\t6 & Wheat  & 2200\\\\\n",
       "\t7 & Rye    & 2100\\\\\n",
       "\t8 & Rye    & 2100\\\\\n",
       "\t9 & Rye    & 2100\\\\\n",
       "\t10 & Canola & 1400\\\\\n",
       "\t11 & Canola & 1400\\\\\n",
       "\t12 & Canola & 1400\\\\\n",
       "\\end{tabular}\n"
      ],
      "text/markdown": [
       "\n",
       "A data.frame: 12 × 2\n",
       "\n",
       "| <!--/--> | CROP_TYPE &lt;fct&gt; | AVG_YIELD &lt;int&gt; |\n",
       "|---|---|---|\n",
       "| 1 | Barley | 2800 |\n",
       "| 2 | Barley | 2800 |\n",
       "| 3 | Barley | 2800 |\n",
       "| 4 | Wheat  | 2200 |\n",
       "| 5 | Wheat  | 2200 |\n",
       "| 6 | Wheat  | 2200 |\n",
       "| 7 | Rye    | 2100 |\n",
       "| 8 | Rye    | 2100 |\n",
       "| 9 | Rye    | 2100 |\n",
       "| 10 | Canola | 1400 |\n",
       "| 11 | Canola | 1400 |\n",
       "| 12 | Canola | 1400 |\n",
       "\n"
      ],
      "text/plain": [
       "   CROP_TYPE AVG_YIELD\n",
       "1  Barley    2800     \n",
       "2  Barley    2800     \n",
       "3  Barley    2800     \n",
       "4  Wheat     2200     \n",
       "5  Wheat     2200     \n",
       "6  Wheat     2200     \n",
       "7  Rye       2100     \n",
       "8  Rye       2100     \n",
       "9  Rye       2100     \n",
       "10 Canola    1400     \n",
       "11 Canola    1400     \n",
       "12 Canola    1400     "
      ]
     },
     "metadata": {},
     "output_type": "display_data"
    }
   ],
   "source": [
    "query <- \"SELECT CROP_TYPE, AVG_YIELD FROM CROP_DATA\n",
    "WHERE YEAR(YEAR) = 2000 AND\n",
    "    GEO = 'Saskatchewan'\n",
    "ORDER BY AVG_YIELD DESC;\"\n",
    " view <- sqlQuery(conn,query)\n",
    "    view"
   ]
  },
  {
   "cell_type": "markdown",
   "metadata": {},
   "source": [
    "## Problem 11\n",
    "#### Rank the crops and geographies by their average yield (KG per hectare) since the year 2000. Which crop and province had the highest average yield since the year 2000? \n"
   ]
  },
  {
   "cell_type": "markdown",
   "metadata": {},
   "source": [
    "### Solution 11\n"
   ]
  },
  {
   "cell_type": "code",
   "execution_count": 57,
   "metadata": {},
   "outputs": [
    {
     "data": {
      "text/html": [
       "<table>\n",
       "<caption>A data.frame: 756 × 3</caption>\n",
       "<thead>\n",
       "\t<tr><th></th><th scope=col>CROP_TYPE</th><th scope=col>GEO</th><th scope=col>AVG_YIELD</th></tr>\n",
       "\t<tr><th></th><th scope=col>&lt;fct&gt;</th><th scope=col>&lt;fct&gt;</th><th scope=col>&lt;int&gt;</th></tr>\n",
       "</thead>\n",
       "<tbody>\n",
       "\t<tr><th scope=row>1</th><td>Barley</td><td>Alberta</td><td>4100</td></tr>\n",
       "\t<tr><th scope=row>2</th><td>Barley</td><td>Alberta</td><td>4100</td></tr>\n",
       "\t<tr><th scope=row>3</th><td>Barley</td><td>Alberta</td><td>4100</td></tr>\n",
       "\t<tr><th scope=row>4</th><td>Barley</td><td>Alberta</td><td>4100</td></tr>\n",
       "\t<tr><th scope=row>5</th><td>Barley</td><td>Alberta</td><td>4100</td></tr>\n",
       "\t<tr><th scope=row>6</th><td>Barley</td><td>Alberta</td><td>4100</td></tr>\n",
       "\t<tr><th scope=row>7</th><td>Barley</td><td>Alberta</td><td>3980</td></tr>\n",
       "\t<tr><th scope=row>8</th><td>Barley</td><td>Alberta</td><td>3980</td></tr>\n",
       "\t<tr><th scope=row>9</th><td>Barley</td><td>Alberta</td><td>3980</td></tr>\n",
       "\t<tr><th scope=row>10</th><td>Wheat </td><td>Alberta</td><td>3900</td></tr>\n",
       "\t<tr><th scope=row>11</th><td>Barley</td><td>Canada </td><td>3900</td></tr>\n",
       "\t<tr><th scope=row>12</th><td>Wheat </td><td>Alberta</td><td>3900</td></tr>\n",
       "\t<tr><th scope=row>13</th><td>Barley</td><td>Alberta</td><td>3900</td></tr>\n",
       "\t<tr><th scope=row>14</th><td>Wheat </td><td>Alberta</td><td>3900</td></tr>\n",
       "\t<tr><th scope=row>15</th><td>Barley</td><td>Canada </td><td>3900</td></tr>\n",
       "\t<tr><th scope=row>16</th><td>Wheat </td><td>Alberta</td><td>3900</td></tr>\n",
       "\t<tr><th scope=row>17</th><td>Barley</td><td>Alberta</td><td>3900</td></tr>\n",
       "\t<tr><th scope=row>18</th><td>Wheat </td><td>Alberta</td><td>3900</td></tr>\n",
       "\t<tr><th scope=row>19</th><td>Barley</td><td>Canada </td><td>3900</td></tr>\n",
       "\t<tr><th scope=row>20</th><td>Wheat </td><td>Alberta</td><td>3900</td></tr>\n",
       "\t<tr><th scope=row>21</th><td>Barley</td><td>Alberta</td><td>3900</td></tr>\n",
       "\t<tr><th scope=row>22</th><td>Barley</td><td>Alberta</td><td>3890</td></tr>\n",
       "\t<tr><th scope=row>23</th><td>Barley</td><td>Alberta</td><td>3890</td></tr>\n",
       "\t<tr><th scope=row>24</th><td>Barley</td><td>Alberta</td><td>3890</td></tr>\n",
       "\t<tr><th scope=row>25</th><td>Barley</td><td>Canada </td><td>3820</td></tr>\n",
       "\t<tr><th scope=row>26</th><td>Barley</td><td>Canada </td><td>3820</td></tr>\n",
       "\t<tr><th scope=row>27</th><td>Barley</td><td>Canada </td><td>3820</td></tr>\n",
       "\t<tr><th scope=row>28</th><td>Barley</td><td>Canada </td><td>3810</td></tr>\n",
       "\t<tr><th scope=row>29</th><td>Barley</td><td>Canada </td><td>3810</td></tr>\n",
       "\t<tr><th scope=row>30</th><td>Barley</td><td>Canada </td><td>3810</td></tr>\n",
       "\t<tr><th scope=row>⋮</th><td>⋮</td><td>⋮</td><td>⋮</td></tr>\n",
       "\t<tr><th scope=row>727</th><td>Canola</td><td>Saskatchewan</td><td>1400</td></tr>\n",
       "\t<tr><th scope=row>728</th><td>Canola</td><td>Saskatchewan</td><td>1400</td></tr>\n",
       "\t<tr><th scope=row>729</th><td>Canola</td><td>Saskatchewan</td><td>1400</td></tr>\n",
       "\t<tr><th scope=row>730</th><td>Canola</td><td>Canada      </td><td>1400</td></tr>\n",
       "\t<tr><th scope=row>731</th><td>Canola</td><td>Saskatchewan</td><td>1400</td></tr>\n",
       "\t<tr><th scope=row>732</th><td>Canola</td><td>Saskatchewan</td><td>1400</td></tr>\n",
       "\t<tr><th scope=row>733</th><td>Canola</td><td>Canada      </td><td>1300</td></tr>\n",
       "\t<tr><th scope=row>734</th><td>Rye   </td><td>Saskatchewan</td><td>1300</td></tr>\n",
       "\t<tr><th scope=row>735</th><td>Canola</td><td>Saskatchewan</td><td>1300</td></tr>\n",
       "\t<tr><th scope=row>736</th><td>Canola</td><td>Canada      </td><td>1300</td></tr>\n",
       "\t<tr><th scope=row>737</th><td>Rye   </td><td>Saskatchewan</td><td>1300</td></tr>\n",
       "\t<tr><th scope=row>738</th><td>Canola</td><td>Saskatchewan</td><td>1300</td></tr>\n",
       "\t<tr><th scope=row>739</th><td>Canola</td><td>Canada      </td><td>1300</td></tr>\n",
       "\t<tr><th scope=row>740</th><td>Rye   </td><td>Saskatchewan</td><td>1300</td></tr>\n",
       "\t<tr><th scope=row>741</th><td>Canola</td><td>Saskatchewan</td><td>1300</td></tr>\n",
       "\t<tr><th scope=row>742</th><td>Canola</td><td>Alberta     </td><td>1200</td></tr>\n",
       "\t<tr><th scope=row>743</th><td>Canola</td><td>Canada      </td><td>1200</td></tr>\n",
       "\t<tr><th scope=row>744</th><td>Canola</td><td>Saskatchewan</td><td>1200</td></tr>\n",
       "\t<tr><th scope=row>745</th><td>Canola</td><td>Alberta     </td><td>1200</td></tr>\n",
       "\t<tr><th scope=row>746</th><td>Canola</td><td>Canada      </td><td>1200</td></tr>\n",
       "\t<tr><th scope=row>747</th><td>Canola</td><td>Saskatchewan</td><td>1200</td></tr>\n",
       "\t<tr><th scope=row>748</th><td>Canola</td><td>Alberta     </td><td>1200</td></tr>\n",
       "\t<tr><th scope=row>749</th><td>Canola</td><td>Canada      </td><td>1200</td></tr>\n",
       "\t<tr><th scope=row>750</th><td>Canola</td><td>Saskatchewan</td><td>1200</td></tr>\n",
       "\t<tr><th scope=row>751</th><td>Canola</td><td>Saskatchewan</td><td>1100</td></tr>\n",
       "\t<tr><th scope=row>752</th><td>Canola</td><td>Saskatchewan</td><td>1100</td></tr>\n",
       "\t<tr><th scope=row>753</th><td>Canola</td><td>Saskatchewan</td><td>1100</td></tr>\n",
       "\t<tr><th scope=row>754</th><td>Canola</td><td>Saskatchewan</td><td>1000</td></tr>\n",
       "\t<tr><th scope=row>755</th><td>Canola</td><td>Saskatchewan</td><td>1000</td></tr>\n",
       "\t<tr><th scope=row>756</th><td>Canola</td><td>Saskatchewan</td><td>1000</td></tr>\n",
       "</tbody>\n",
       "</table>\n"
      ],
      "text/latex": [
       "A data.frame: 756 × 3\n",
       "\\begin{tabular}{r|lll}\n",
       "  & CROP\\_TYPE & GEO & AVG\\_YIELD\\\\\n",
       "  & <fct> & <fct> & <int>\\\\\n",
       "\\hline\n",
       "\t1 & Barley & Alberta & 4100\\\\\n",
       "\t2 & Barley & Alberta & 4100\\\\\n",
       "\t3 & Barley & Alberta & 4100\\\\\n",
       "\t4 & Barley & Alberta & 4100\\\\\n",
       "\t5 & Barley & Alberta & 4100\\\\\n",
       "\t6 & Barley & Alberta & 4100\\\\\n",
       "\t7 & Barley & Alberta & 3980\\\\\n",
       "\t8 & Barley & Alberta & 3980\\\\\n",
       "\t9 & Barley & Alberta & 3980\\\\\n",
       "\t10 & Wheat  & Alberta & 3900\\\\\n",
       "\t11 & Barley & Canada  & 3900\\\\\n",
       "\t12 & Wheat  & Alberta & 3900\\\\\n",
       "\t13 & Barley & Alberta & 3900\\\\\n",
       "\t14 & Wheat  & Alberta & 3900\\\\\n",
       "\t15 & Barley & Canada  & 3900\\\\\n",
       "\t16 & Wheat  & Alberta & 3900\\\\\n",
       "\t17 & Barley & Alberta & 3900\\\\\n",
       "\t18 & Wheat  & Alberta & 3900\\\\\n",
       "\t19 & Barley & Canada  & 3900\\\\\n",
       "\t20 & Wheat  & Alberta & 3900\\\\\n",
       "\t21 & Barley & Alberta & 3900\\\\\n",
       "\t22 & Barley & Alberta & 3890\\\\\n",
       "\t23 & Barley & Alberta & 3890\\\\\n",
       "\t24 & Barley & Alberta & 3890\\\\\n",
       "\t25 & Barley & Canada  & 3820\\\\\n",
       "\t26 & Barley & Canada  & 3820\\\\\n",
       "\t27 & Barley & Canada  & 3820\\\\\n",
       "\t28 & Barley & Canada  & 3810\\\\\n",
       "\t29 & Barley & Canada  & 3810\\\\\n",
       "\t30 & Barley & Canada  & 3810\\\\\n",
       "\t⋮ & ⋮ & ⋮ & ⋮\\\\\n",
       "\t727 & Canola & Saskatchewan & 1400\\\\\n",
       "\t728 & Canola & Saskatchewan & 1400\\\\\n",
       "\t729 & Canola & Saskatchewan & 1400\\\\\n",
       "\t730 & Canola & Canada       & 1400\\\\\n",
       "\t731 & Canola & Saskatchewan & 1400\\\\\n",
       "\t732 & Canola & Saskatchewan & 1400\\\\\n",
       "\t733 & Canola & Canada       & 1300\\\\\n",
       "\t734 & Rye    & Saskatchewan & 1300\\\\\n",
       "\t735 & Canola & Saskatchewan & 1300\\\\\n",
       "\t736 & Canola & Canada       & 1300\\\\\n",
       "\t737 & Rye    & Saskatchewan & 1300\\\\\n",
       "\t738 & Canola & Saskatchewan & 1300\\\\\n",
       "\t739 & Canola & Canada       & 1300\\\\\n",
       "\t740 & Rye    & Saskatchewan & 1300\\\\\n",
       "\t741 & Canola & Saskatchewan & 1300\\\\\n",
       "\t742 & Canola & Alberta      & 1200\\\\\n",
       "\t743 & Canola & Canada       & 1200\\\\\n",
       "\t744 & Canola & Saskatchewan & 1200\\\\\n",
       "\t745 & Canola & Alberta      & 1200\\\\\n",
       "\t746 & Canola & Canada       & 1200\\\\\n",
       "\t747 & Canola & Saskatchewan & 1200\\\\\n",
       "\t748 & Canola & Alberta      & 1200\\\\\n",
       "\t749 & Canola & Canada       & 1200\\\\\n",
       "\t750 & Canola & Saskatchewan & 1200\\\\\n",
       "\t751 & Canola & Saskatchewan & 1100\\\\\n",
       "\t752 & Canola & Saskatchewan & 1100\\\\\n",
       "\t753 & Canola & Saskatchewan & 1100\\\\\n",
       "\t754 & Canola & Saskatchewan & 1000\\\\\n",
       "\t755 & Canola & Saskatchewan & 1000\\\\\n",
       "\t756 & Canola & Saskatchewan & 1000\\\\\n",
       "\\end{tabular}\n"
      ],
      "text/markdown": [
       "\n",
       "A data.frame: 756 × 3\n",
       "\n",
       "| <!--/--> | CROP_TYPE &lt;fct&gt; | GEO &lt;fct&gt; | AVG_YIELD &lt;int&gt; |\n",
       "|---|---|---|---|\n",
       "| 1 | Barley | Alberta | 4100 |\n",
       "| 2 | Barley | Alberta | 4100 |\n",
       "| 3 | Barley | Alberta | 4100 |\n",
       "| 4 | Barley | Alberta | 4100 |\n",
       "| 5 | Barley | Alberta | 4100 |\n",
       "| 6 | Barley | Alberta | 4100 |\n",
       "| 7 | Barley | Alberta | 3980 |\n",
       "| 8 | Barley | Alberta | 3980 |\n",
       "| 9 | Barley | Alberta | 3980 |\n",
       "| 10 | Wheat  | Alberta | 3900 |\n",
       "| 11 | Barley | Canada  | 3900 |\n",
       "| 12 | Wheat  | Alberta | 3900 |\n",
       "| 13 | Barley | Alberta | 3900 |\n",
       "| 14 | Wheat  | Alberta | 3900 |\n",
       "| 15 | Barley | Canada  | 3900 |\n",
       "| 16 | Wheat  | Alberta | 3900 |\n",
       "| 17 | Barley | Alberta | 3900 |\n",
       "| 18 | Wheat  | Alberta | 3900 |\n",
       "| 19 | Barley | Canada  | 3900 |\n",
       "| 20 | Wheat  | Alberta | 3900 |\n",
       "| 21 | Barley | Alberta | 3900 |\n",
       "| 22 | Barley | Alberta | 3890 |\n",
       "| 23 | Barley | Alberta | 3890 |\n",
       "| 24 | Barley | Alberta | 3890 |\n",
       "| 25 | Barley | Canada  | 3820 |\n",
       "| 26 | Barley | Canada  | 3820 |\n",
       "| 27 | Barley | Canada  | 3820 |\n",
       "| 28 | Barley | Canada  | 3810 |\n",
       "| 29 | Barley | Canada  | 3810 |\n",
       "| 30 | Barley | Canada  | 3810 |\n",
       "| ⋮ | ⋮ | ⋮ | ⋮ |\n",
       "| 727 | Canola | Saskatchewan | 1400 |\n",
       "| 728 | Canola | Saskatchewan | 1400 |\n",
       "| 729 | Canola | Saskatchewan | 1400 |\n",
       "| 730 | Canola | Canada       | 1400 |\n",
       "| 731 | Canola | Saskatchewan | 1400 |\n",
       "| 732 | Canola | Saskatchewan | 1400 |\n",
       "| 733 | Canola | Canada       | 1300 |\n",
       "| 734 | Rye    | Saskatchewan | 1300 |\n",
       "| 735 | Canola | Saskatchewan | 1300 |\n",
       "| 736 | Canola | Canada       | 1300 |\n",
       "| 737 | Rye    | Saskatchewan | 1300 |\n",
       "| 738 | Canola | Saskatchewan | 1300 |\n",
       "| 739 | Canola | Canada       | 1300 |\n",
       "| 740 | Rye    | Saskatchewan | 1300 |\n",
       "| 741 | Canola | Saskatchewan | 1300 |\n",
       "| 742 | Canola | Alberta      | 1200 |\n",
       "| 743 | Canola | Canada       | 1200 |\n",
       "| 744 | Canola | Saskatchewan | 1200 |\n",
       "| 745 | Canola | Alberta      | 1200 |\n",
       "| 746 | Canola | Canada       | 1200 |\n",
       "| 747 | Canola | Saskatchewan | 1200 |\n",
       "| 748 | Canola | Alberta      | 1200 |\n",
       "| 749 | Canola | Canada       | 1200 |\n",
       "| 750 | Canola | Saskatchewan | 1200 |\n",
       "| 751 | Canola | Saskatchewan | 1100 |\n",
       "| 752 | Canola | Saskatchewan | 1100 |\n",
       "| 753 | Canola | Saskatchewan | 1100 |\n",
       "| 754 | Canola | Saskatchewan | 1000 |\n",
       "| 755 | Canola | Saskatchewan | 1000 |\n",
       "| 756 | Canola | Saskatchewan | 1000 |\n",
       "\n"
      ],
      "text/plain": [
       "    CROP_TYPE GEO          AVG_YIELD\n",
       "1   Barley    Alberta      4100     \n",
       "2   Barley    Alberta      4100     \n",
       "3   Barley    Alberta      4100     \n",
       "4   Barley    Alberta      4100     \n",
       "5   Barley    Alberta      4100     \n",
       "6   Barley    Alberta      4100     \n",
       "7   Barley    Alberta      3980     \n",
       "8   Barley    Alberta      3980     \n",
       "9   Barley    Alberta      3980     \n",
       "10  Wheat     Alberta      3900     \n",
       "11  Barley    Canada       3900     \n",
       "12  Wheat     Alberta      3900     \n",
       "13  Barley    Alberta      3900     \n",
       "14  Wheat     Alberta      3900     \n",
       "15  Barley    Canada       3900     \n",
       "16  Wheat     Alberta      3900     \n",
       "17  Barley    Alberta      3900     \n",
       "18  Wheat     Alberta      3900     \n",
       "19  Barley    Canada       3900     \n",
       "20  Wheat     Alberta      3900     \n",
       "21  Barley    Alberta      3900     \n",
       "22  Barley    Alberta      3890     \n",
       "23  Barley    Alberta      3890     \n",
       "24  Barley    Alberta      3890     \n",
       "25  Barley    Canada       3820     \n",
       "26  Barley    Canada       3820     \n",
       "27  Barley    Canada       3820     \n",
       "28  Barley    Canada       3810     \n",
       "29  Barley    Canada       3810     \n",
       "30  Barley    Canada       3810     \n",
       "⋮   ⋮         ⋮            ⋮        \n",
       "727 Canola    Saskatchewan 1400     \n",
       "728 Canola    Saskatchewan 1400     \n",
       "729 Canola    Saskatchewan 1400     \n",
       "730 Canola    Canada       1400     \n",
       "731 Canola    Saskatchewan 1400     \n",
       "732 Canola    Saskatchewan 1400     \n",
       "733 Canola    Canada       1300     \n",
       "734 Rye       Saskatchewan 1300     \n",
       "735 Canola    Saskatchewan 1300     \n",
       "736 Canola    Canada       1300     \n",
       "737 Rye       Saskatchewan 1300     \n",
       "738 Canola    Saskatchewan 1300     \n",
       "739 Canola    Canada       1300     \n",
       "740 Rye       Saskatchewan 1300     \n",
       "741 Canola    Saskatchewan 1300     \n",
       "742 Canola    Alberta      1200     \n",
       "743 Canola    Canada       1200     \n",
       "744 Canola    Saskatchewan 1200     \n",
       "745 Canola    Alberta      1200     \n",
       "746 Canola    Canada       1200     \n",
       "747 Canola    Saskatchewan 1200     \n",
       "748 Canola    Alberta      1200     \n",
       "749 Canola    Canada       1200     \n",
       "750 Canola    Saskatchewan 1200     \n",
       "751 Canola    Saskatchewan 1100     \n",
       "752 Canola    Saskatchewan 1100     \n",
       "753 Canola    Saskatchewan 1100     \n",
       "754 Canola    Saskatchewan 1000     \n",
       "755 Canola    Saskatchewan 1000     \n",
       "756 Canola    Saskatchewan 1000     "
      ]
     },
     "metadata": {},
     "output_type": "display_data"
    }
   ],
   "source": [
    "query <- \"SELECT CROP_TYPE,GEO, AVG_YIELD FROM CROP_DATA\n",
    "WHERE YEAR(YEAR) >= 2000\n",
    "ORDER BY AVG_YIELD DESC;\"\n",
    " view <- sqlQuery(conn,query)\n",
    "    view"
   ]
  },
  {
   "cell_type": "markdown",
   "metadata": {},
   "source": [
    "## Problem 12\n",
    "#### Use a subquery to determine how much wheat was harvested in Canada in the most recent year of the data.\n"
   ]
  },
  {
   "cell_type": "markdown",
   "metadata": {},
   "source": [
    "### Solution 12\n"
   ]
  },
  {
   "cell_type": "code",
   "execution_count": 64,
   "metadata": {},
   "outputs": [
    {
     "data": {
      "text/html": [
       "<table>\n",
       "<caption>A data.frame: 1 × 3</caption>\n",
       "<thead>\n",
       "\t<tr><th></th><th scope=col>CROP_TYPE</th><th scope=col>2</th><th scope=col>PROVINCE</th></tr>\n",
       "\t<tr><th></th><th scope=col>&lt;fct&gt;</th><th scope=col>&lt;int&gt;</th><th scope=col>&lt;lgl&gt;</th></tr>\n",
       "</thead>\n",
       "<tbody>\n",
       "\t<tr><th scope=row>1</th><td>Wheat</td><td>54413700</td><td>NA</td></tr>\n",
       "</tbody>\n",
       "</table>\n"
      ],
      "text/latex": [
       "A data.frame: 1 × 3\n",
       "\\begin{tabular}{r|lll}\n",
       "  & CROP\\_TYPE & 2 & PROVINCE\\\\\n",
       "  & <fct> & <int> & <lgl>\\\\\n",
       "\\hline\n",
       "\t1 & Wheat & 54413700 & NA\\\\\n",
       "\\end{tabular}\n"
      ],
      "text/markdown": [
       "\n",
       "A data.frame: 1 × 3\n",
       "\n",
       "| <!--/--> | CROP_TYPE &lt;fct&gt; | 2 &lt;int&gt; | PROVINCE &lt;lgl&gt; |\n",
       "|---|---|---|---|\n",
       "| 1 | Wheat | 54413700 | NA |\n",
       "\n"
      ],
      "text/plain": [
       "  CROP_TYPE 2        PROVINCE\n",
       "1 Wheat     54413700 NA      "
      ]
     },
     "metadata": {},
     "output_type": "display_data"
    }
   ],
   "source": [
    "query<- \"SELECT CROP_TYPE, SUM(HARVESTED_AREA), \n",
    "    (SELECT GEO FROM FARM_PRICES \n",
    "        WHERE GEO = 'Canada') AS Province \n",
    "FROM CROP_DATA\n",
    "WHERE YEAR(YEAR) = 2020 AND\n",
    "    CROP_TYPE = 'Wheat'\n",
    "GROUP BY CROP_TYPE;\"\n",
    "  view <- sqlQuery(conn,query)\n",
    "    view"
   ]
  },
  {
   "cell_type": "markdown",
   "metadata": {},
   "source": [
    "## Problem 13\n",
    "#### Use an implicit inner join to calculate the monthly price per metric tonne of Canola grown in Saskatchewan in both Canadian and US dollars. Display the most recent 6 months of the data.\n"
   ]
  },
  {
   "cell_type": "markdown",
   "metadata": {},
   "source": [
    "### Solution 13\n"
   ]
  },
  {
   "cell_type": "code",
   "execution_count": null,
   "metadata": {},
   "outputs": [],
   "source": [
    "query <- \"SELECT \"\n",
    " view <- sqlQuery(conn,query)\n",
    "    view"
   ]
  },
  {
   "cell_type": "markdown",
   "metadata": {},
   "source": [
    "## Author(s)\n",
    "\n",
    "<h4> Jeff Grossman </h4>\n",
    "\n",
    "## Contributor(s)\n",
    "\n",
    "<h4> Rav Ahuja </h4>\n",
    "\n",
    "## Change log\n",
    "\n",
    "| Date       | Version | Changed by    | Change Description                                                                                          |\n",
    "| ---------- | ------- | ------------- | ----------------------------------------------------------------------------------------------------------- |\n",
    "| 2021-04-01 | 0.7     | Jeff Grossman | Split Problem 1 solution cell into multiple cells, fixed minor bugs |\n",
    "| 2021-03-12 | 0.6     | Jeff Grossman | Cleaned up content for production |\n",
    "| 2021-03-11 | 0.5     | Jeff Grossman | Moved more advanced problems to optional honours module |\n",
    "| 2021-03-10 | 0.4     | Jeff Grossman | Added introductory and intermediate level problems and removed some advanced problems |\n",
    "| 2021-03-04 | 0.3     | Jeff Grossman | Moved some problems to a new practice lab as prep for this assignment\n",
    "| 2021-03-04 | 0.2     | Jeff Grossman | Sorted problems roughly by level of difficulty and relegated more advanced ones to ungraded bonus problems  |\n",
    "| 2021-02-20 | 0.1     | Jeff Grossman | Started content creation                                                                                    |\n",
    "\n",
    "\n",
    "## <h3 align=\"center\"> © IBM Corporation 2021. All rights reserved. <h3/>\n"
   ]
  },
  {
   "cell_type": "code",
   "execution_count": null,
   "metadata": {},
   "outputs": [],
   "source": []
  }
 ],
 "metadata": {
  "kernelspec": {
   "display_name": "R",
   "language": "R",
   "name": "conda-env-r-r"
  },
  "language_info": {
   "codemirror_mode": "r",
   "file_extension": ".r",
   "mimetype": "text/x-r-source",
   "name": "R",
   "pygments_lexer": "r",
   "version": "3.5.1"
  }
 },
 "nbformat": 4,
 "nbformat_minor": 4
}
